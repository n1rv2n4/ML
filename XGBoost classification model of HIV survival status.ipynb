{
 "cells": [
  {
   "cell_type": "markdown",
   "id": "ac226de3-a21e-49ff-b421-2e8df1520c74",
   "metadata": {},
   "source": [
    "# XGBoost classification model of HIV suivival status"
   ]
  },
  {
   "cell_type": "markdown",
   "id": "5eda7e5e-eb2e-4bdb-ae53-3b5ece5a1b27",
   "metadata": {},
   "source": [
    "## 1. 环境准备"
   ]
  },
  {
   "cell_type": "markdown",
   "id": "08e57a50-f476-4cd0-a947-2c6f2e477f69",
   "metadata": {},
   "source": [
    "### 1.1 安装python包"
   ]
  },
  {
   "cell_type": "markdown",
   "id": "91b520d8-c5f5-4174-a1fc-ad46ed293665",
   "metadata": {},
   "source": [
    "执行命令安装以下python包："
   ]
  },
  {
   "cell_type": "code",
   "execution_count": 183,
   "id": "404f2672-6dd7-4952-b973-74ba6a551893",
   "metadata": {},
   "outputs": [
    {
     "name": "stdout",
     "output_type": "stream",
     "text": [
      "Looking in indexes: http://mirrors.tools.huawei.com/pypi/simple\n",
      "Requirement already satisfied: xgboost in d:\\dev\\projects\\python_projects\\ml\\venv\\lib\\site-packages (2.0.3)\n",
      "Requirement already satisfied: scikit-learn in d:\\dev\\projects\\python_projects\\ml\\venv\\lib\\site-packages (1.4.0)\n",
      "Requirement already satisfied: pandas in d:\\dev\\projects\\python_projects\\ml\\venv\\lib\\site-packages (2.2.0)\n",
      "Requirement already satisfied: matplotlib in d:\\dev\\projects\\python_projects\\ml\\venv\\lib\\site-packages (3.8.2)\n",
      "Requirement already satisfied: numpy in d:\\dev\\projects\\python_projects\\ml\\venv\\lib\\site-packages (from xgboost) (1.26.3)\n",
      "Requirement already satisfied: scipy in d:\\dev\\projects\\python_projects\\ml\\venv\\lib\\site-packages (from xgboost) (1.12.0)\n",
      "Requirement already satisfied: joblib>=1.2.0 in d:\\dev\\projects\\python_projects\\ml\\venv\\lib\\site-packages (from scikit-learn) (1.3.2)\n",
      "Requirement already satisfied: threadpoolctl>=2.0.0 in d:\\dev\\projects\\python_projects\\ml\\venv\\lib\\site-packages (from scikit-learn) (3.2.0)\n",
      "Requirement already satisfied: python-dateutil>=2.8.2 in d:\\dev\\projects\\python_projects\\ml\\venv\\lib\\site-packages (from pandas) (2.8.2)\n",
      "Requirement already satisfied: pytz>=2020.1 in d:\\dev\\projects\\python_projects\\ml\\venv\\lib\\site-packages (from pandas) (2023.3.post1)\n",
      "Requirement already satisfied: tzdata>=2022.7 in d:\\dev\\projects\\python_projects\\ml\\venv\\lib\\site-packages (from pandas) (2023.4)\n",
      "Requirement already satisfied: contourpy>=1.0.1 in d:\\dev\\projects\\python_projects\\ml\\venv\\lib\\site-packages (from matplotlib) (1.2.0)\n",
      "Requirement already satisfied: cycler>=0.10 in d:\\dev\\projects\\python_projects\\ml\\venv\\lib\\site-packages (from matplotlib) (0.12.1)\n",
      "Requirement already satisfied: fonttools>=4.22.0 in d:\\dev\\projects\\python_projects\\ml\\venv\\lib\\site-packages (from matplotlib) (4.47.2)\n",
      "Requirement already satisfied: kiwisolver>=1.3.1 in d:\\dev\\projects\\python_projects\\ml\\venv\\lib\\site-packages (from matplotlib) (1.4.5)\n",
      "Requirement already satisfied: packaging>=20.0 in d:\\dev\\projects\\python_projects\\ml\\venv\\lib\\site-packages (from matplotlib) (23.2)\n",
      "Requirement already satisfied: pillow>=8 in d:\\dev\\projects\\python_projects\\ml\\venv\\lib\\site-packages (from matplotlib) (10.2.0)\n",
      "Requirement already satisfied: pyparsing>=2.3.1 in d:\\dev\\projects\\python_projects\\ml\\venv\\lib\\site-packages (from matplotlib) (3.1.1)\n",
      "Requirement already satisfied: six>=1.5 in d:\\dev\\projects\\python_projects\\ml\\venv\\lib\\site-packages (from python-dateutil>=2.8.2->pandas) (1.16.0)\n",
      "Note: you may need to restart the kernel to use updated packages.\n"
     ]
    }
   ],
   "source": [
    "pip install xgboost scikit-learn pandas matplotlib"
   ]
  },
  {
   "cell_type": "markdown",
   "id": "60c31ce2-285c-4d04-a899-db4e25a6b9fc",
   "metadata": {},
   "source": [
    "### 1.2 导入python包"
   ]
  },
  {
   "cell_type": "code",
   "execution_count": 184,
   "id": "b600e467-7cb6-4890-b261-cddfe77e59c7",
   "metadata": {},
   "outputs": [],
   "source": [
    "import pandas as pd\n",
    "import xgboost as xgb\n",
    "import matplotlib.pyplot as plt\n",
    "from sklearn.metrics import roc_auc_score, accuracy_score, precision_score, recall_score, f1_score, confusion_matrix\n",
    "from sklearn.metrics import roc_curve, auc, precision_recall_curve\n",
    "from xgboost.sklearn import XGBClassifier\n",
    "from sklearn.model_selection import train_test_split, GridSearchCV"
   ]
  },
  {
   "cell_type": "markdown",
   "id": "2e32edef-6be2-4388-8def-d50daa537619",
   "metadata": {},
   "source": [
    "## 2. 数据处理"
   ]
  },
  {
   "cell_type": "markdown",
   "id": "dc7bb6dc-9e54-4216-97ac-27e7a4c7ca6e",
   "metadata": {},
   "source": [
    "原始数据已经过部分处理，数据集见dataset目录下的Datas.xlsx文件"
   ]
  },
  {
   "cell_type": "code",
   "execution_count": 185,
   "id": "4490b47d-38b3-4a54-8d1a-b7ede478c6fc",
   "metadata": {},
   "outputs": [],
   "source": [
    "# 特征列\n",
    "feature_columns = [\"gender\", \"onset_age\", \"onset_age_class\", \"education_level\", \"occupation\", \"marital_status\", \n",
    "                   \"venereal_history\", \"infection_pathway\", \"last_CD4_result\", \"treat_status\"]\n",
    "# 标签列\n",
    "label_columns = [\"survival_status\"]\n",
    "\n",
    "# 特征数据\n",
    "data = pd.read_excel(\"dataset/Datas.xlsx\", sheet_name=\"Sheet1\", usecols=feature_columns)\n",
    "# 标签数据\n",
    "target = pd.read_excel(\"dataset/Datas.xlsx\", sheet_name=\"Sheet1\", usecols=label_columns)"
   ]
  },
  {
   "cell_type": "markdown",
   "id": "3c8eab7c-dcd8-40c2-be32-1b6ea98e392a",
   "metadata": {},
   "source": [
    "查看一下数据："
   ]
  },
  {
   "cell_type": "code",
   "execution_count": 186,
   "id": "b5165680-7e74-4b6d-9e54-cbaa530c85ae",
   "metadata": {},
   "outputs": [
    {
     "data": {
      "text/html": [
       "<div>\n",
       "<style scoped>\n",
       "    .dataframe tbody tr th:only-of-type {\n",
       "        vertical-align: middle;\n",
       "    }\n",
       "\n",
       "    .dataframe tbody tr th {\n",
       "        vertical-align: top;\n",
       "    }\n",
       "\n",
       "    .dataframe thead th {\n",
       "        text-align: right;\n",
       "    }\n",
       "</style>\n",
       "<table border=\"1\" class=\"dataframe\">\n",
       "  <thead>\n",
       "    <tr style=\"text-align: right;\">\n",
       "      <th></th>\n",
       "      <th>gender</th>\n",
       "      <th>onset_age</th>\n",
       "      <th>onset_age_class</th>\n",
       "      <th>education_level</th>\n",
       "      <th>occupation</th>\n",
       "      <th>marital_status</th>\n",
       "      <th>venereal_history</th>\n",
       "      <th>infection_pathway</th>\n",
       "      <th>last_CD4_result</th>\n",
       "      <th>treat_status</th>\n",
       "    </tr>\n",
       "  </thead>\n",
       "  <tbody>\n",
       "    <tr>\n",
       "      <th>0</th>\n",
       "      <td>1</td>\n",
       "      <td>52</td>\n",
       "      <td>2</td>\n",
       "      <td>1</td>\n",
       "      <td>0</td>\n",
       "      <td>1</td>\n",
       "      <td>0</td>\n",
       "      <td>1</td>\n",
       "      <td>1</td>\n",
       "      <td>1</td>\n",
       "    </tr>\n",
       "    <tr>\n",
       "      <th>1</th>\n",
       "      <td>0</td>\n",
       "      <td>39</td>\n",
       "      <td>1</td>\n",
       "      <td>2</td>\n",
       "      <td>0</td>\n",
       "      <td>2</td>\n",
       "      <td>0</td>\n",
       "      <td>0</td>\n",
       "      <td>3</td>\n",
       "      <td>1</td>\n",
       "    </tr>\n",
       "    <tr>\n",
       "      <th>2</th>\n",
       "      <td>0</td>\n",
       "      <td>51</td>\n",
       "      <td>2</td>\n",
       "      <td>2</td>\n",
       "      <td>1</td>\n",
       "      <td>1</td>\n",
       "      <td>0</td>\n",
       "      <td>1</td>\n",
       "      <td>3</td>\n",
       "      <td>1</td>\n",
       "    </tr>\n",
       "    <tr>\n",
       "      <th>3</th>\n",
       "      <td>0</td>\n",
       "      <td>34</td>\n",
       "      <td>1</td>\n",
       "      <td>3</td>\n",
       "      <td>1</td>\n",
       "      <td>2</td>\n",
       "      <td>0</td>\n",
       "      <td>0</td>\n",
       "      <td>2</td>\n",
       "      <td>1</td>\n",
       "    </tr>\n",
       "    <tr>\n",
       "      <th>4</th>\n",
       "      <td>0</td>\n",
       "      <td>23</td>\n",
       "      <td>1</td>\n",
       "      <td>2</td>\n",
       "      <td>2</td>\n",
       "      <td>0</td>\n",
       "      <td>0</td>\n",
       "      <td>0</td>\n",
       "      <td>3</td>\n",
       "      <td>0</td>\n",
       "    </tr>\n",
       "  </tbody>\n",
       "</table>\n",
       "</div>"
      ],
      "text/plain": [
       "   gender  onset_age  onset_age_class  education_level  occupation  \\\n",
       "0       1         52                2                1           0   \n",
       "1       0         39                1                2           0   \n",
       "2       0         51                2                2           1   \n",
       "3       0         34                1                3           1   \n",
       "4       0         23                1                2           2   \n",
       "\n",
       "   marital_status  venereal_history  infection_pathway  last_CD4_result  \\\n",
       "0               1                 0                  1                1   \n",
       "1               2                 0                  0                3   \n",
       "2               1                 0                  1                3   \n",
       "3               2                 0                  0                2   \n",
       "4               0                 0                  0                3   \n",
       "\n",
       "   treat_status  \n",
       "0             1  \n",
       "1             1  \n",
       "2             1  \n",
       "3             1  \n",
       "4             0  "
      ]
     },
     "execution_count": 186,
     "metadata": {},
     "output_type": "execute_result"
    }
   ],
   "source": [
    "data.head()"
   ]
  },
  {
   "cell_type": "code",
   "execution_count": 187,
   "id": "9ceb9690-2cdd-442d-9c1e-6448cae5ce2e",
   "metadata": {},
   "outputs": [
    {
     "name": "stdout",
     "output_type": "stream",
     "text": [
      "<class 'pandas.core.frame.DataFrame'>\n",
      "RangeIndex: 676 entries, 0 to 675\n",
      "Data columns (total 10 columns):\n",
      " #   Column             Non-Null Count  Dtype\n",
      "---  ------             --------------  -----\n",
      " 0   gender             676 non-null    int64\n",
      " 1   onset_age          676 non-null    int64\n",
      " 2   onset_age_class    676 non-null    int64\n",
      " 3   education_level    676 non-null    int64\n",
      " 4   occupation         676 non-null    int64\n",
      " 5   marital_status     676 non-null    int64\n",
      " 6   venereal_history   676 non-null    int64\n",
      " 7   infection_pathway  676 non-null    int64\n",
      " 8   last_CD4_result    676 non-null    int64\n",
      " 9   treat_status       676 non-null    int64\n",
      "dtypes: int64(10)\n",
      "memory usage: 52.9 KB\n"
     ]
    }
   ],
   "source": [
    "data.info()"
   ]
  },
  {
   "cell_type": "code",
   "execution_count": 188,
   "id": "ac5ef20e-134e-49f2-8935-a4c78a1b019a",
   "metadata": {},
   "outputs": [
    {
     "data": {
      "text/html": [
       "<div>\n",
       "<style scoped>\n",
       "    .dataframe tbody tr th:only-of-type {\n",
       "        vertical-align: middle;\n",
       "    }\n",
       "\n",
       "    .dataframe tbody tr th {\n",
       "        vertical-align: top;\n",
       "    }\n",
       "\n",
       "    .dataframe thead th {\n",
       "        text-align: right;\n",
       "    }\n",
       "</style>\n",
       "<table border=\"1\" class=\"dataframe\">\n",
       "  <thead>\n",
       "    <tr style=\"text-align: right;\">\n",
       "      <th></th>\n",
       "      <th>gender</th>\n",
       "      <th>onset_age</th>\n",
       "      <th>onset_age_class</th>\n",
       "      <th>education_level</th>\n",
       "      <th>occupation</th>\n",
       "      <th>marital_status</th>\n",
       "      <th>venereal_history</th>\n",
       "      <th>infection_pathway</th>\n",
       "      <th>last_CD4_result</th>\n",
       "      <th>treat_status</th>\n",
       "    </tr>\n",
       "  </thead>\n",
       "  <tbody>\n",
       "    <tr>\n",
       "      <th>count</th>\n",
       "      <td>676.000000</td>\n",
       "      <td>676.000000</td>\n",
       "      <td>676.000000</td>\n",
       "      <td>676.000000</td>\n",
       "      <td>676.000000</td>\n",
       "      <td>676.000000</td>\n",
       "      <td>676.000000</td>\n",
       "      <td>676.000000</td>\n",
       "      <td>676.000000</td>\n",
       "      <td>676.000000</td>\n",
       "    </tr>\n",
       "    <tr>\n",
       "      <th>mean</th>\n",
       "      <td>0.217456</td>\n",
       "      <td>48.748521</td>\n",
       "      <td>1.942308</td>\n",
       "      <td>1.868343</td>\n",
       "      <td>1.013314</td>\n",
       "      <td>1.124260</td>\n",
       "      <td>0.392012</td>\n",
       "      <td>0.779586</td>\n",
       "      <td>2.390533</td>\n",
       "      <td>0.886095</td>\n",
       "    </tr>\n",
       "    <tr>\n",
       "      <th>std</th>\n",
       "      <td>0.412821</td>\n",
       "      <td>17.220541</td>\n",
       "      <td>0.804386</td>\n",
       "      <td>1.113741</td>\n",
       "      <td>0.727125</td>\n",
       "      <td>0.685903</td>\n",
       "      <td>0.761205</td>\n",
       "      <td>0.623204</td>\n",
       "      <td>0.751196</td>\n",
       "      <td>0.317931</td>\n",
       "    </tr>\n",
       "    <tr>\n",
       "      <th>min</th>\n",
       "      <td>0.000000</td>\n",
       "      <td>15.000000</td>\n",
       "      <td>1.000000</td>\n",
       "      <td>0.000000</td>\n",
       "      <td>0.000000</td>\n",
       "      <td>0.000000</td>\n",
       "      <td>0.000000</td>\n",
       "      <td>0.000000</td>\n",
       "      <td>1.000000</td>\n",
       "      <td>0.000000</td>\n",
       "    </tr>\n",
       "    <tr>\n",
       "      <th>25%</th>\n",
       "      <td>0.000000</td>\n",
       "      <td>35.000000</td>\n",
       "      <td>1.000000</td>\n",
       "      <td>1.000000</td>\n",
       "      <td>1.000000</td>\n",
       "      <td>1.000000</td>\n",
       "      <td>0.000000</td>\n",
       "      <td>0.000000</td>\n",
       "      <td>2.000000</td>\n",
       "      <td>1.000000</td>\n",
       "    </tr>\n",
       "    <tr>\n",
       "      <th>50%</th>\n",
       "      <td>0.000000</td>\n",
       "      <td>48.000000</td>\n",
       "      <td>2.000000</td>\n",
       "      <td>2.000000</td>\n",
       "      <td>1.000000</td>\n",
       "      <td>1.000000</td>\n",
       "      <td>0.000000</td>\n",
       "      <td>1.000000</td>\n",
       "      <td>3.000000</td>\n",
       "      <td>1.000000</td>\n",
       "    </tr>\n",
       "    <tr>\n",
       "      <th>75%</th>\n",
       "      <td>0.000000</td>\n",
       "      <td>64.000000</td>\n",
       "      <td>3.000000</td>\n",
       "      <td>2.000000</td>\n",
       "      <td>1.000000</td>\n",
       "      <td>2.000000</td>\n",
       "      <td>0.000000</td>\n",
       "      <td>1.000000</td>\n",
       "      <td>3.000000</td>\n",
       "      <td>1.000000</td>\n",
       "    </tr>\n",
       "    <tr>\n",
       "      <th>max</th>\n",
       "      <td>1.000000</td>\n",
       "      <td>91.000000</td>\n",
       "      <td>3.000000</td>\n",
       "      <td>4.000000</td>\n",
       "      <td>3.000000</td>\n",
       "      <td>2.000000</td>\n",
       "      <td>2.000000</td>\n",
       "      <td>3.000000</td>\n",
       "      <td>3.000000</td>\n",
       "      <td>1.000000</td>\n",
       "    </tr>\n",
       "  </tbody>\n",
       "</table>\n",
       "</div>"
      ],
      "text/plain": [
       "           gender   onset_age  onset_age_class  education_level  occupation  \\\n",
       "count  676.000000  676.000000       676.000000       676.000000  676.000000   \n",
       "mean     0.217456   48.748521         1.942308         1.868343    1.013314   \n",
       "std      0.412821   17.220541         0.804386         1.113741    0.727125   \n",
       "min      0.000000   15.000000         1.000000         0.000000    0.000000   \n",
       "25%      0.000000   35.000000         1.000000         1.000000    1.000000   \n",
       "50%      0.000000   48.000000         2.000000         2.000000    1.000000   \n",
       "75%      0.000000   64.000000         3.000000         2.000000    1.000000   \n",
       "max      1.000000   91.000000         3.000000         4.000000    3.000000   \n",
       "\n",
       "       marital_status  venereal_history  infection_pathway  last_CD4_result  \\\n",
       "count      676.000000        676.000000         676.000000       676.000000   \n",
       "mean         1.124260          0.392012           0.779586         2.390533   \n",
       "std          0.685903          0.761205           0.623204         0.751196   \n",
       "min          0.000000          0.000000           0.000000         1.000000   \n",
       "25%          1.000000          0.000000           0.000000         2.000000   \n",
       "50%          1.000000          0.000000           1.000000         3.000000   \n",
       "75%          2.000000          0.000000           1.000000         3.000000   \n",
       "max          2.000000          2.000000           3.000000         3.000000   \n",
       "\n",
       "       treat_status  \n",
       "count    676.000000  \n",
       "mean       0.886095  \n",
       "std        0.317931  \n",
       "min        0.000000  \n",
       "25%        1.000000  \n",
       "50%        1.000000  \n",
       "75%        1.000000  \n",
       "max        1.000000  "
      ]
     },
     "execution_count": 188,
     "metadata": {},
     "output_type": "execute_result"
    }
   ],
   "source": [
    "data.describe()"
   ]
  },
  {
   "cell_type": "markdown",
   "id": "8441faf8-ba91-4cf6-9090-8afe0e069147",
   "metadata": {},
   "source": [
    "特征数据图表："
   ]
  },
  {
   "cell_type": "code",
   "execution_count": 189,
   "id": "1f3c1970-208c-4297-9637-5a2d6b66961a",
   "metadata": {},
   "outputs": [
    {
     "data": {
      "image/png": "[encoded data removed]",
      "text/plain": [
       "<Figure size 2000x1500 with 12 Axes>"
      ]
     },
     "metadata": {},
     "output_type": "display_data"
    }
   ],
   "source": [
    "%matplotlib inline\n",
    "data.hist(bins=50, figsize=(20, 15))\n",
    "plt.show()"
   ]
  },
  {
   "cell_type": "markdown",
   "id": "3b1e5f59-7b5c-4ebf-bc98-1742e9612572",
   "metadata": {},
   "source": [
    "标签数据图表："
   ]
  },
  {
   "cell_type": "code",
   "execution_count": 190,
   "id": "e5d8c0fa-2af2-4d6d-858d-3bda62703701",
   "metadata": {},
   "outputs": [
    {
     "data": {
      "image/png": "[encoded data removed]",
      "text/plain": [
       "<Figure size 600x500 with 1 Axes>"
      ]
     },
     "metadata": {},
     "output_type": "display_data"
    }
   ],
   "source": [
    "%matplotlib inline\n",
    "target.hist(figsize=(6, 5))\n",
    "plt.show()"
   ]
  },
  {
   "cell_type": "markdown",
   "id": "8628e7d5-0fb7-4323-823a-15b8edda63d9",
   "metadata": {},
   "source": [
    "## 3.模型建立"
   ]
  },
  {
   "cell_type": "markdown",
   "id": "b4191847-510e-4740-a4f1-b1fc47414e38",
   "metadata": {},
   "source": [
    "### 3.1 训练集与测试集划分"
   ]
  },
  {
   "cell_type": "code",
   "execution_count": 191,
   "id": "4c980917-6601-4c5d-b64b-f53df84e82e1",
   "metadata": {},
   "outputs": [],
   "source": [
    "# test_size=0.3表示训练集和测试集划分比例为7:3\n",
    "X_train, X_test, y_train, y_test = train_test_split(data, target, test_size=0.3, random_state=2024)\n",
    "dTrain = xgb.DMatrix(X_train, y_train)\n",
    "dTest = xgb.DMatrix(X_test, y_test)"
   ]
  },
  {
   "cell_type": "markdown",
   "id": "080ee0c8-146b-4ec7-8fb3-16f0751ee161",
   "metadata": {},
   "source": [
    "### 3.2 初始模型建立"
   ]
  },
  {
   "cell_type": "markdown",
   "id": "13bef2f9-528f-49a8-adc7-3228927d7db7",
   "metadata": {},
   "source": [
    "设置模型基础参数，其余参数暂且默认"
   ]
  },
  {
   "cell_type": "code",
   "execution_count": 192,
   "id": "d9caa134-4223-4ea3-9c67-c9b686a4c55d",
   "metadata": {},
   "outputs": [],
   "source": [
    "params = {\n",
    "    'booster': 'gbtree', # 树模型\n",
    "    'objective': 'binary:logistic', # 目标函数，二分类\n",
    "    'eval_metric': 'auc', # 评估指标\n",
    "}\n",
    "# 设置运行时监控指标\n",
    "watchlist = [(dTrain, 'train')]"
   ]
  },
  {
   "cell_type": "markdown",
   "id": "13c77c13-76d4-4137-9574-293eb94c1645",
   "metadata": {},
   "source": [
    "使用XGBoost的原生接口进行模型训练："
   ]
  },
  {
   "cell_type": "code",
   "execution_count": 193,
   "id": "aa6ecf0e-3e71-4588-9d35-3231535a31be",
   "metadata": {},
   "outputs": [
    {
     "name": "stdout",
     "output_type": "stream",
     "text": [
      "[0]\ttrain-auc:0.92850\n",
      "[1]\ttrain-auc:0.94546\n",
      "[2]\ttrain-auc:0.95016\n",
      "[3]\ttrain-auc:0.95750\n",
      "[4]\ttrain-auc:0.96398\n",
      "[5]\ttrain-auc:0.96719\n",
      "[6]\ttrain-auc:0.96948\n",
      "[7]\ttrain-auc:0.97302\n",
      "[8]\ttrain-auc:0.97476\n",
      "[9]\ttrain-auc:0.97672\n",
      "[10]\ttrain-auc:0.97756\n",
      "[11]\ttrain-auc:0.97894\n",
      "[12]\ttrain-auc:0.98028\n",
      "[13]\ttrain-auc:0.98199\n",
      "[14]\ttrain-auc:0.98251\n",
      "[15]\ttrain-auc:0.98416\n",
      "[16]\ttrain-auc:0.98481\n",
      "[17]\ttrain-auc:0.98547\n",
      "[18]\ttrain-auc:0.98637\n",
      "[19]\ttrain-auc:0.98756\n",
      "[20]\ttrain-auc:0.98825\n",
      "[21]\ttrain-auc:0.98897\n",
      "[22]\ttrain-auc:0.98950\n",
      "[23]\ttrain-auc:0.99002\n",
      "[24]\ttrain-auc:0.99040\n",
      "[25]\ttrain-auc:0.99090\n",
      "[26]\ttrain-auc:0.99157\n",
      "[27]\ttrain-auc:0.99167\n",
      "[28]\ttrain-auc:0.99203\n",
      "[29]\ttrain-auc:0.99260\n",
      "[30]\ttrain-auc:0.99326\n",
      "[31]\ttrain-auc:0.99349\n",
      "[32]\ttrain-auc:0.99378\n",
      "[33]\ttrain-auc:0.99376\n",
      "[34]\ttrain-auc:0.99403\n",
      "[35]\ttrain-auc:0.99463\n",
      "[36]\ttrain-auc:0.99520\n",
      "[37]\ttrain-auc:0.99534\n",
      "[38]\ttrain-auc:0.99573\n",
      "[39]\ttrain-auc:0.99580\n",
      "[40]\ttrain-auc:0.99589\n",
      "[41]\ttrain-auc:0.99613\n",
      "[42]\ttrain-auc:0.99635\n",
      "[43]\ttrain-auc:0.99651\n",
      "[44]\ttrain-auc:0.99661\n",
      "[45]\ttrain-auc:0.99683\n",
      "[46]\ttrain-auc:0.99702\n",
      "[47]\ttrain-auc:0.99706\n",
      "[48]\ttrain-auc:0.99725\n",
      "[49]\ttrain-auc:0.99730\n"
     ]
    }
   ],
   "source": [
    "model = xgb.train(params, dTrain, num_boost_round=50, evals=watchlist)"
   ]
  },
  {
   "cell_type": "markdown",
   "id": "af50da8c-e662-4277-9a3b-188e08fbb2a7",
   "metadata": {},
   "source": [
    "模型建立后，查看一下模型特征值的相关性："
   ]
  },
  {
   "cell_type": "code",
   "execution_count": 194,
   "id": "3c91ea79-07f8-4f55-9cf8-fe7ddf9ac5ee",
   "metadata": {},
   "outputs": [
    {
     "data": {
      "image/png": "[encoded data removed]",
      "text/plain": [
       "<Figure size 640x480 with 1 Axes>"
      ]
     },
     "metadata": {},
     "output_type": "display_data"
    }
   ],
   "source": [
    "xgb.plot_importance(model)\n",
    "plt.show()"
   ]
  },
  {
   "cell_type": "markdown",
   "id": "2f89a999-0628-44a7-b2d7-46d6b723e8b2",
   "metadata": {},
   "source": [
    "可以看到发病年龄对模型的相关性远高于其他特征，有过拟合的风险"
   ]
  },
  {
   "cell_type": "markdown",
   "id": "1297048a-6e45-4341-858d-6da5779c8812",
   "metadata": {},
   "source": [
    "### 3.3 初始模型预测"
   ]
  },
  {
   "cell_type": "code",
   "execution_count": 195,
   "id": "0c148173-5678-4935-806f-6fe8a7af6c41",
   "metadata": {},
   "outputs": [],
   "source": [
    "# 模型预测，输出为概率\n",
    "y_predict_prob = model.predict(dTest)\n",
    "# 设置阈值为0.5\n",
    "y_predict = (y_predict_prob >= 0.5) * 1"
   ]
  },
  {
   "cell_type": "markdown",
   "id": "df84631f-840e-4317-9331-9ce5c90162e2",
   "metadata": {},
   "source": [
    "### 3.4 初始模型评估"
   ]
  },
  {
   "cell_type": "code",
   "execution_count": 196,
   "id": "7df6fdfa-c6e1-474a-99aa-846c3f89b231",
   "metadata": {},
   "outputs": [
    {
     "name": "stdout",
     "output_type": "stream",
     "text": [
      "auc: 0.7250386996904026\n",
      "accuracy score: 0.7931034482758621\n",
      "precision score: 0.5882352941176471\n",
      "recall score: 0.5882352941176471\n",
      "f1 score: 0.5882352941176471\n",
      "confusion matrix: [[131  21]\n",
      " [ 21  30]]\n"
     ]
    }
   ],
   "source": [
    "# AUC值\n",
    "roc_auc = roc_auc_score(y_test, y_predict)\n",
    "# 准确率\n",
    "accuracy = accuracy_score(y_test, y_predict)\n",
    "# 精确率\n",
    "precision = precision_score(y_test, y_predict)\n",
    "# 召回率\n",
    "recall = recall_score(y_test, y_predict)\n",
    "# F1值，准确率和召回率的调和平均数\n",
    "f1 = f1_score(y_test, y_predict)\n",
    "# 混淆矩阵\n",
    "confusion_mat = confusion_matrix(y_test, y_predict)\n",
    "\n",
    "print(f'auc: {roc_auc}')\n",
    "print(f'accuracy score: {accuracy}')\n",
    "print(f'precision score: {precision}')\n",
    "print(f'recall score: {recall}')\n",
    "print(f'f1 score: {f1}')\n",
    "print(f'confusion matrix: {confusion_mat}')"
   ]
  },
  {
   "cell_type": "markdown",
   "id": "9fe67f37-3def-40f2-aca6-a2266899fc35",
   "metadata": {},
   "source": [
    "### 3.5 模型微调"
   ]
  },
  {
   "cell_type": "markdown",
   "id": "60498bb8-da2b-475f-977e-3d931506e75c",
   "metadata": {},
   "source": [
    "使用网格搜索法调整获取模型最佳参数，此处使用XGBoost的sklearn接口建立模型并微调\n",
    "首先建立初始模型："
   ]
  },
  {
   "cell_type": "code",
   "execution_count": 197,
   "id": "11c50205-3585-40c3-a93a-e46d083ef44a",
   "metadata": {},
   "outputs": [],
   "source": [
    "xgb_clf = XGBClassifier(\n",
    "    objective='binary:logistic', # 目标函数，二分类\n",
    "    nthread=4,\n",
    "    seed=2024,\n",
    "    booster='gbtree' # 树模型\n",
    ")"
   ]
  },
  {
   "cell_type": "markdown",
   "id": "8b11ce45-0ed5-4c80-9301-63c94f38f8ab",
   "metadata": {},
   "source": [
    "#### 3.5.1 调节n_estimators参数"
   ]
  },
  {
   "cell_type": "markdown",
   "id": "f5ebebbc-3daa-4a4a-861a-974ed9a0a8cc",
   "metadata": {},
   "source": [
    "n_estimator是XGBoost的最大生成树数目，也是最大迭代次数"
   ]
  },
  {
   "cell_type": "code",
   "execution_count": 198,
   "id": "5dee1173-e63b-43b7-9701-ebd82d10f184",
   "metadata": {},
   "outputs": [
    {
     "name": "stdout",
     "output_type": "stream",
     "text": [
      "最佳迭代结果: 0.8825321494182488\n",
      "最佳n_estimators参数: {'n_estimators': 4}\n"
     ]
    }
   ],
   "source": [
    "# 参数网格\n",
    "param_grid1 = {'n_estimators': range(0, 10, 1)}\n",
    "# 网格交叉验证搜索最佳参数，cv=5表示分5折进行交叉验证\n",
    "optimized_xgb_clf1 = GridSearchCV(estimator=xgb_clf, param_grid=param_grid1, scoring='roc_auc', cv=5)\n",
    "optimized_xgb_clf1.fit(X_train, y_train)\n",
    "print(f'最佳迭代结果: {optimized_xgb_clf1.best_score_}')\n",
    "print(f'最佳n_estimators参数: {optimized_xgb_clf1.best_params_}')"
   ]
  },
  {
   "cell_type": "markdown",
   "id": "d984f78c-e8ef-4894-bbed-14964656eaea",
   "metadata": {},
   "source": [
    "#### 3.5.2 调节max_depth和min_child_weight参数"
   ]
  },
  {
   "cell_type": "markdown",
   "id": "f0810b7d-4bbf-44d8-9ffa-4815f35d5d21",
   "metadata": {},
   "source": [
    "max_depth 是最大树深度，用于控制过拟合；min_child_weight是最小叶子点样本权重和，同样用于避免过拟合"
   ]
  },
  {
   "cell_type": "code",
   "execution_count": 199,
   "id": "70d8f780-815c-47ff-86d7-8ff2448b73ae",
   "metadata": {},
   "outputs": [
    {
     "name": "stdout",
     "output_type": "stream",
     "text": [
      "最佳迭代结果: 0.8912737293325168\n",
      "最佳max_depth和min_child_weight参数: {'max_depth': 4, 'min_child_weight': 3}\n"
     ]
    }
   ],
   "source": [
    "param_grid2 = {'max_depth': range(1, 10, 1),\n",
    "               'min_child_weight': range(1, 10, 1)}\n",
    "# 得到上一次调参的最佳参数后, 在下一次调参里在estimator中将上一个最佳参数设置\n",
    "optimized_xgb_clf2 = GridSearchCV(estimator=XGBClassifier(objective='binary:logistic', nthread=4, seed=2024, n_estimators=4),\n",
    "                                  param_grid=param_grid2, scoring='roc_auc', cv=5)\n",
    "optimized_xgb_clf2.fit(X_train, y_train)\n",
    "print(f'最佳迭代结果: {optimized_xgb_clf2.best_score_}')\n",
    "print(f'最佳max_depth和min_child_weight参数: {optimized_xgb_clf2.best_params_}')"
   ]
  },
  {
   "cell_type": "markdown",
   "id": "107a8310-c81a-49ae-8bed-c907cdcf0023",
   "metadata": {},
   "source": [
    "#### 3.5.3 调节gamma参数"
   ]
  },
  {
   "cell_type": "markdown",
   "id": "1ff1a5a4-b363-4298-8b45-938c3de50307",
   "metadata": {},
   "source": [
    "gamma是树节点分裂所需最小损失函数下降值，gamma值越大算法越保守"
   ]
  },
  {
   "cell_type": "code",
   "execution_count": 200,
   "id": "59a29750-ffb2-476d-bae2-5c275ab7fced",
   "metadata": {},
   "outputs": [
    {
     "name": "stdout",
     "output_type": "stream",
     "text": [
      "最佳迭代结果: 0.8941008369054909\n",
      "最佳gamma参数: {'gamma': 0.2}\n"
     ]
    }
   ],
   "source": [
    "param_grid3 = {'gamma': [i/10.0 for i in range(1, 10, 1)]}\n",
    "optimized_xgb_clf3 = GridSearchCV(estimator=XGBClassifier(objective='binary:logistic', nthread=4, seed=2024, n_estimators=4, max_depth=4, min_child_weight=3),\n",
    "                                  param_grid=param_grid3, scoring='roc_auc', cv=5)\n",
    "optimized_xgb_clf3.fit(X_train, y_train)\n",
    "print(f'最佳迭代结果: {optimized_xgb_clf3.best_score_}')\n",
    "print(f'最佳gamma参数: {optimized_xgb_clf3.best_params_}')"
   ]
  },
  {
   "cell_type": "markdown",
   "id": "92211265-8dee-4260-9b44-74e3676309d3",
   "metadata": {},
   "source": [
    "#### 3.5.4 调节subsample和colsample_bytree参数"
   ]
  },
  {
   "cell_type": "markdown",
   "id": "075875aa-d614-4b26-b8e9-f3c1d33191c3",
   "metadata": {},
   "source": [
    "subsample用于控制每棵树随机采样的比例，colsample_bytree控制每棵树随机采样的列数的占比，参数值越小算法越保守"
   ]
  },
  {
   "cell_type": "code",
   "execution_count": 201,
   "id": "71968ad9-0669-4151-b5b9-d10ec58a7317",
   "metadata": {},
   "outputs": [
    {
     "name": "stdout",
     "output_type": "stream",
     "text": [
      "最佳迭代结果: 0.8975658297611757\n",
      "最佳subsample和colsample_bytree参数: {'colsample_bytree': 0.6, 'subsample': 1.0}\n"
     ]
    }
   ],
   "source": [
    "param_grid4 = {'subsample': [i/10.0 for i in range(5, 11, 1)],\n",
    "               'colsample_bytree': [i/10.0 for i in range(5, 11, 1)]}\n",
    "optimized_xgb_clf4 = GridSearchCV(estimator=XGBClassifier(objective='binary:logistic', nthread=4, seed=2024, n_estimators=4, max_depth=4, min_child_weight=3, gamma=0.2),\n",
    "                                  param_grid=param_grid4, scoring='roc_auc', cv=5)\n",
    "optimized_xgb_clf4.fit(X_train, y_train)\n",
    "print(f'最佳迭代结果: {optimized_xgb_clf4.best_score_}')\n",
    "print(f'最佳subsample和colsample_bytree参数: {optimized_xgb_clf4.best_params_}')"
   ]
  },
  {
   "cell_type": "markdown",
   "id": "b86980e0-8913-4242-ad14-cc1caa626013",
   "metadata": {},
   "source": [
    "#### 3.5.5 调节reg_alpha和reg_lambda参数"
   ]
  },
  {
   "cell_type": "markdown",
   "id": "acd67bcd-adb1-419a-ac03-2db90903db4f",
   "metadata": {},
   "source": [
    "reg_alpha是权重的L1正则化项，reg_lambda参数是权重的L2正则化项，两者均用于减少过拟合"
   ]
  },
  {
   "cell_type": "code",
   "execution_count": 202,
   "id": "ff3ebe0c-6a14-4e8b-ac4c-05a84763f2e4",
   "metadata": {},
   "outputs": [
    {
     "name": "stdout",
     "output_type": "stream",
     "text": [
      "最佳迭代结果: 0.901546233925291\n",
      "最佳reg_alpha和reg_lambda参数: {'reg_alpha': 0.7, 'reg_lambda': 0.2}\n"
     ]
    }
   ],
   "source": [
    "param_grid5 = {'reg_alpha': [i/10.0 for i in range(1, 11, 1)],\n",
    "               'reg_lambda': [i/10.0 for i in range(1, 11, 1)]}\n",
    "optimized_xgb_clf5 = GridSearchCV(estimator=XGBClassifier(objective='binary:logistic', nthread=4, seed=2024, n_estimators=4, max_depth=4, min_child_weight=3, gamma=0.2, subsample=1, colsample_bytree=0.6),\n",
    "                                  param_grid=param_grid5, scoring='roc_auc', cv=5)\n",
    "optimized_xgb_clf5.fit(X_train, y_train)\n",
    "print(f'最佳迭代结果: {optimized_xgb_clf5.best_score_}')\n",
    "print(f'最佳reg_alpha和reg_lambda参数: {optimized_xgb_clf5.best_params_}')"
   ]
  },
  {
   "cell_type": "markdown",
   "id": "609a7cab-4d10-4492-bbee-b884f490fcb1",
   "metadata": {},
   "source": [
    "#### 3.5.6 调节learning_rate参数"
   ]
  },
  {
   "cell_type": "markdown",
   "id": "6dd2aab7-f6fc-4025-a9a3-39e18b23bbf7",
   "metadata": {},
   "source": [
    "调小learning_rate，默认的learning_rate是0.3"
   ]
  },
  {
   "cell_type": "code",
   "execution_count": 203,
   "id": "a4d1e306-6dad-4afe-ac08-2ed3c1d0b781",
   "metadata": {},
   "outputs": [
    {
     "name": "stdout",
     "output_type": "stream",
     "text": [
      "最佳迭代结果: 0.901546233925291\n",
      "最佳learning_rate参数: {'learning_rate': 0.3}\n"
     ]
    }
   ],
   "source": [
    "param_grid6 = {'learning_rate': [i/100 for i in range(2, 52, 2)]}\n",
    "optimized_xgb_clf6 = GridSearchCV(estimator=XGBClassifier(objective='binary:logistic', nthread=4, seed=2024, n_estimators=4, max_depth=4, min_child_weight=3, gamma=0.2, subsample=1.0, colsample_bytree=0.6, reg_alpha=0.7, reg_lambda=0.2),\n",
    "                                  param_grid=param_grid6, scoring='roc_auc', cv=5)\n",
    "optimized_xgb_clf6.fit(X_train, y_train)\n",
    "print(f'最佳迭代结果: {optimized_xgb_clf6.best_score_}')\n",
    "print(f'最佳learning_rate参数: {optimized_xgb_clf6.best_params_}')"
   ]
  },
  {
   "cell_type": "markdown",
   "id": "acac8caf-f1fe-493b-a0b5-6aebaf506298",
   "metadata": {},
   "source": [
    "### 3.6 最优模型"
   ]
  },
  {
   "cell_type": "markdown",
   "id": "dd4d6fae-ad3f-4a1e-8af0-350cb5392ebf",
   "metadata": {},
   "source": [
    "经过上述调参，得到了一组最佳参数："
   ]
  },
  {
   "cell_type": "code",
   "execution_count": 204,
   "id": "54f508a2-7dc5-427a-b876-28e76b32029f",
   "metadata": {},
   "outputs": [],
   "source": [
    "best_params = {\n",
    "    'booster': 'gbtree', # 树模型\n",
    "    'objective': 'binary:logistic', # 目标函数，二分类\n",
    "    'eval_metric': 'auc', # 评估指标\n",
    "    'max_depth': 4,\n",
    "    'min_child_weight': 3,\n",
    "    'gamma': 0.2,\n",
    "    'subsample': 1.0,\n",
    "    'colsample_bytree': 0.6,\n",
    "    'alpha': 0.7, # 等同于sklearn接口中的reg_alpha\n",
    "    'lambda': 0.2, # 等同于sklearn接口中的reg_lambda\n",
    "    'eta': 0.3 # 等同于sklearn接口中的learning_rate\n",
    "}"
   ]
  },
  {
   "cell_type": "markdown",
   "id": "5aa5af30-03b6-4bbe-be87-e79d8858cef6",
   "metadata": {},
   "source": [
    "使用上述参数再次训练得到最优模型："
   ]
  },
  {
   "cell_type": "code",
   "execution_count": 205,
   "id": "8637cd2f-1f64-48e2-a67b-b7365bef1532",
   "metadata": {},
   "outputs": [
    {
     "name": "stdout",
     "output_type": "stream",
     "text": [
      "[0]\ttrain-auc:0.88996\n",
      "[1]\ttrain-auc:0.90297\n",
      "[2]\ttrain-auc:0.92830\n",
      "[3]\ttrain-auc:0.92411\n"
     ]
    }
   ],
   "source": [
    "# XGBoost原生接口训练\n",
    "best_model = xgb.train(params=best_params, dtrain=dTrain, num_boost_round=4, evals=watchlist) # num_boost_round等同于sklearn接口中的n_estimators"
   ]
  },
  {
   "cell_type": "code",
   "execution_count": 206,
   "id": "44e03622-71d6-4cee-8884-1ecaef1f13d9",
   "metadata": {},
   "outputs": [
    {
     "data": {
      "text/html": [
       "<style>#sk-container-id-6 {\n",
       "  /* Definition of color scheme common for light and dark mode */\n",
       "  --sklearn-color-text: black;\n",
       "  --sklearn-color-line: gray;\n",
       "  /* Definition of color scheme for unfitted estimators */\n",
       "  --sklearn-color-unfitted-level-0: #fff5e6;\n",
       "  --sklearn-color-unfitted-level-1: #f6e4d2;\n",
       "  --sklearn-color-unfitted-level-2: #ffe0b3;\n",
       "  --sklearn-color-unfitted-level-3: chocolate;\n",
       "  /* Definition of color scheme for fitted estimators */\n",
       "  --sklearn-color-fitted-level-0: #f0f8ff;\n",
       "  --sklearn-color-fitted-level-1: #d4ebff;\n",
       "  --sklearn-color-fitted-level-2: #b3dbfd;\n",
       "  --sklearn-color-fitted-level-3: cornflowerblue;\n",
       "\n",
       "  /* Specific color for light theme */\n",
       "  --sklearn-color-text-on-default-background: var(--sg-text-color, var(--theme-code-foreground, var(--jp-content-font-color1, black)));\n",
       "  --sklearn-color-background: var(--sg-background-color, var(--theme-background, var(--jp-layout-color0, white)));\n",
       "  --sklearn-color-border-box: var(--sg-text-color, var(--theme-code-foreground, var(--jp-content-font-color1, black)));\n",
       "  --sklearn-color-icon: #696969;\n",
       "\n",
       "  @media (prefers-color-scheme: dark) {\n",
       "    /* Redefinition of color scheme for dark theme */\n",
       "    --sklearn-color-text-on-default-background: var(--sg-text-color, var(--theme-code-foreground, var(--jp-content-font-color1, white)));\n",
       "    --sklearn-color-background: var(--sg-background-color, var(--theme-background, var(--jp-layout-color0, #111)));\n",
       "    --sklearn-color-border-box: var(--sg-text-color, var(--theme-code-foreground, var(--jp-content-font-color1, white)));\n",
       "    --sklearn-color-icon: #878787;\n",
       "  }\n",
       "}\n",
       "\n",
       "#sk-container-id-6 {\n",
       "  color: var(--sklearn-color-text);\n",
       "}\n",
       "\n",
       "#sk-container-id-6 pre {\n",
       "  padding: 0;\n",
       "}\n",
       "\n",
       "#sk-container-id-6 input.sk-hidden--visually {\n",
       "  border: 0;\n",
       "  clip: rect(1px 1px 1px 1px);\n",
       "  clip: rect(1px, 1px, 1px, 1px);\n",
       "  height: 1px;\n",
       "  margin: -1px;\n",
       "  overflow: hidden;\n",
       "  padding: 0;\n",
       "  position: absolute;\n",
       "  width: 1px;\n",
       "}\n",
       "\n",
       "#sk-container-id-6 div.sk-dashed-wrapped {\n",
       "  border: 1px dashed var(--sklearn-color-line);\n",
       "  margin: 0 0.4em 0.5em 0.4em;\n",
       "  box-sizing: border-box;\n",
       "  padding-bottom: 0.4em;\n",
       "  background-color: var(--sklearn-color-background);\n",
       "}\n",
       "\n",
       "#sk-container-id-6 div.sk-container {\n",
       "  /* jupyter's `normalize.less` sets `[hidden] { display: none; }`\n",
       "     but bootstrap.min.css set `[hidden] { display: none !important; }`\n",
       "     so we also need the `!important` here to be able to override the\n",
       "     default hidden behavior on the sphinx rendered scikit-learn.org.\n",
       "     See: https://github.com/scikit-learn/scikit-learn/issues/21755 */\n",
       "  display: inline-block !important;\n",
       "  position: relative;\n",
       "}\n",
       "\n",
       "#sk-container-id-6 div.sk-text-repr-fallback {\n",
       "  display: none;\n",
       "}\n",
       "\n",
       "div.sk-parallel-item,\n",
       "div.sk-serial,\n",
       "div.sk-item {\n",
       "  /* draw centered vertical line to link estimators */\n",
       "  background-image: linear-gradient(var(--sklearn-color-text-on-default-background), var(--sklearn-color-text-on-default-background));\n",
       "  background-size: 2px 100%;\n",
       "  background-repeat: no-repeat;\n",
       "  background-position: center center;\n",
       "}\n",
       "\n",
       "/* Parallel-specific style estimator block */\n",
       "\n",
       "#sk-container-id-6 div.sk-parallel-item::after {\n",
       "  content: \"\";\n",
       "  width: 100%;\n",
       "  border-bottom: 2px solid var(--sklearn-color-text-on-default-background);\n",
       "  flex-grow: 1;\n",
       "}\n",
       "\n",
       "#sk-container-id-6 div.sk-parallel {\n",
       "  display: flex;\n",
       "  align-items: stretch;\n",
       "  justify-content: center;\n",
       "  background-color: var(--sklearn-color-background);\n",
       "  position: relative;\n",
       "}\n",
       "\n",
       "#sk-container-id-6 div.sk-parallel-item {\n",
       "  display: flex;\n",
       "  flex-direction: column;\n",
       "}\n",
       "\n",
       "#sk-container-id-6 div.sk-parallel-item:first-child::after {\n",
       "  align-self: flex-end;\n",
       "  width: 50%;\n",
       "}\n",
       "\n",
       "#sk-container-id-6 div.sk-parallel-item:last-child::after {\n",
       "  align-self: flex-start;\n",
       "  width: 50%;\n",
       "}\n",
       "\n",
       "#sk-container-id-6 div.sk-parallel-item:only-child::after {\n",
       "  width: 0;\n",
       "}\n",
       "\n",
       "/* Serial-specific style estimator block */\n",
       "\n",
       "#sk-container-id-6 div.sk-serial {\n",
       "  display: flex;\n",
       "  flex-direction: column;\n",
       "  align-items: center;\n",
       "  background-color: var(--sklearn-color-background);\n",
       "  padding-right: 1em;\n",
       "  padding-left: 1em;\n",
       "}\n",
       "\n",
       "\n",
       "/* Toggleable style: style used for estimator/Pipeline/ColumnTransformer box that is\n",
       "clickable and can be expanded/collapsed.\n",
       "- Pipeline and ColumnTransformer use this feature and define the default style\n",
       "- Estimators will overwrite some part of the style using the `sk-estimator` class\n",
       "*/\n",
       "\n",
       "/* Pipeline and ColumnTransformer style (default) */\n",
       "\n",
       "#sk-container-id-6 div.sk-toggleable {\n",
       "  /* Default theme specific background. It is overwritten whether we have a\n",
       "  specific estimator or a Pipeline/ColumnTransformer */\n",
       "  background-color: var(--sklearn-color-background);\n",
       "}\n",
       "\n",
       "/* Toggleable label */\n",
       "#sk-container-id-6 label.sk-toggleable__label {\n",
       "  cursor: pointer;\n",
       "  display: block;\n",
       "  width: 100%;\n",
       "  margin-bottom: 0;\n",
       "  padding: 0.5em;\n",
       "  box-sizing: border-box;\n",
       "  text-align: center;\n",
       "}\n",
       "\n",
       "#sk-container-id-6 label.sk-toggleable__label-arrow:before {\n",
       "  /* Arrow on the left of the label */\n",
       "  content: \"▸\";\n",
       "  float: left;\n",
       "  margin-right: 0.25em;\n",
       "  color: var(--sklearn-color-icon);\n",
       "}\n",
       "\n",
       "#sk-container-id-6 label.sk-toggleable__label-arrow:hover:before {\n",
       "  color: var(--sklearn-color-text);\n",
       "}\n",
       "\n",
       "/* Toggleable content - dropdown */\n",
       "\n",
       "#sk-container-id-6 div.sk-toggleable__content {\n",
       "  max-height: 0;\n",
       "  max-width: 0;\n",
       "  overflow: hidden;\n",
       "  text-align: left;\n",
       "  /* unfitted */\n",
       "  background-color: var(--sklearn-color-unfitted-level-0);\n",
       "}\n",
       "\n",
       "#sk-container-id-6 div.sk-toggleable__content.fitted {\n",
       "  /* fitted */\n",
       "  background-color: var(--sklearn-color-fitted-level-0);\n",
       "}\n",
       "\n",
       "#sk-container-id-6 div.sk-toggleable__content pre {\n",
       "  margin: 0.2em;\n",
       "  border-radius: 0.25em;\n",
       "  color: var(--sklearn-color-text);\n",
       "  /* unfitted */\n",
       "  background-color: var(--sklearn-color-unfitted-level-0);\n",
       "}\n",
       "\n",
       "#sk-container-id-6 div.sk-toggleable__content.fitted pre {\n",
       "  /* unfitted */\n",
       "  background-color: var(--sklearn-color-fitted-level-0);\n",
       "}\n",
       "\n",
       "#sk-container-id-6 input.sk-toggleable__control:checked~div.sk-toggleable__content {\n",
       "  /* Expand drop-down */\n",
       "  max-height: 200px;\n",
       "  max-width: 100%;\n",
       "  overflow: auto;\n",
       "}\n",
       "\n",
       "#sk-container-id-6 input.sk-toggleable__control:checked~label.sk-toggleable__label-arrow:before {\n",
       "  content: \"▾\";\n",
       "}\n",
       "\n",
       "/* Pipeline/ColumnTransformer-specific style */\n",
       "\n",
       "#sk-container-id-6 div.sk-label input.sk-toggleable__control:checked~label.sk-toggleable__label {\n",
       "  color: var(--sklearn-color-text);\n",
       "  background-color: var(--sklearn-color-unfitted-level-2);\n",
       "}\n",
       "\n",
       "#sk-container-id-6 div.sk-label.fitted input.sk-toggleable__control:checked~label.sk-toggleable__label {\n",
       "  background-color: var(--sklearn-color-fitted-level-2);\n",
       "}\n",
       "\n",
       "/* Estimator-specific style */\n",
       "\n",
       "/* Colorize estimator box */\n",
       "#sk-container-id-6 div.sk-estimator input.sk-toggleable__control:checked~label.sk-toggleable__label {\n",
       "  /* unfitted */\n",
       "  background-color: var(--sklearn-color-unfitted-level-2);\n",
       "}\n",
       "\n",
       "#sk-container-id-6 div.sk-estimator.fitted input.sk-toggleable__control:checked~label.sk-toggleable__label {\n",
       "  /* fitted */\n",
       "  background-color: var(--sklearn-color-fitted-level-2);\n",
       "}\n",
       "\n",
       "#sk-container-id-6 div.sk-label label.sk-toggleable__label,\n",
       "#sk-container-id-6 div.sk-label label {\n",
       "  /* The background is the default theme color */\n",
       "  color: var(--sklearn-color-text-on-default-background);\n",
       "}\n",
       "\n",
       "/* On hover, darken the color of the background */\n",
       "#sk-container-id-6 div.sk-label:hover label.sk-toggleable__label {\n",
       "  color: var(--sklearn-color-text);\n",
       "  background-color: var(--sklearn-color-unfitted-level-2);\n",
       "}\n",
       "\n",
       "/* Label box, darken color on hover, fitted */\n",
       "#sk-container-id-6 div.sk-label.fitted:hover label.sk-toggleable__label.fitted {\n",
       "  color: var(--sklearn-color-text);\n",
       "  background-color: var(--sklearn-color-fitted-level-2);\n",
       "}\n",
       "\n",
       "/* Estimator label */\n",
       "\n",
       "#sk-container-id-6 div.sk-label label {\n",
       "  font-family: monospace;\n",
       "  font-weight: bold;\n",
       "  display: inline-block;\n",
       "  line-height: 1.2em;\n",
       "}\n",
       "\n",
       "#sk-container-id-6 div.sk-label-container {\n",
       "  text-align: center;\n",
       "}\n",
       "\n",
       "/* Estimator-specific */\n",
       "#sk-container-id-6 div.sk-estimator {\n",
       "  font-family: monospace;\n",
       "  border: 1px dotted var(--sklearn-color-border-box);\n",
       "  border-radius: 0.25em;\n",
       "  box-sizing: border-box;\n",
       "  margin-bottom: 0.5em;\n",
       "  /* unfitted */\n",
       "  background-color: var(--sklearn-color-unfitted-level-0);\n",
       "}\n",
       "\n",
       "#sk-container-id-6 div.sk-estimator.fitted {\n",
       "  /* fitted */\n",
       "  background-color: var(--sklearn-color-fitted-level-0);\n",
       "}\n",
       "\n",
       "/* on hover */\n",
       "#sk-container-id-6 div.sk-estimator:hover {\n",
       "  /* unfitted */\n",
       "  background-color: var(--sklearn-color-unfitted-level-2);\n",
       "}\n",
       "\n",
       "#sk-container-id-6 div.sk-estimator.fitted:hover {\n",
       "  /* fitted */\n",
       "  background-color: var(--sklearn-color-fitted-level-2);\n",
       "}\n",
       "\n",
       "/* Specification for estimator info (e.g. \"i\" and \"?\") */\n",
       "\n",
       "/* Common style for \"i\" and \"?\" */\n",
       "\n",
       ".sk-estimator-doc-link,\n",
       "a:link.sk-estimator-doc-link,\n",
       "a:visited.sk-estimator-doc-link {\n",
       "  float: right;\n",
       "  font-size: smaller;\n",
       "  line-height: 1em;\n",
       "  font-family: monospace;\n",
       "  background-color: var(--sklearn-color-background);\n",
       "  border-radius: 1em;\n",
       "  height: 1em;\n",
       "  width: 1em;\n",
       "  text-decoration: none !important;\n",
       "  margin-left: 1ex;\n",
       "  /* unfitted */\n",
       "  border: var(--sklearn-color-unfitted-level-1) 1pt solid;\n",
       "  color: var(--sklearn-color-unfitted-level-1);\n",
       "}\n",
       "\n",
       ".sk-estimator-doc-link.fitted,\n",
       "a:link.sk-estimator-doc-link.fitted,\n",
       "a:visited.sk-estimator-doc-link.fitted {\n",
       "  /* fitted */\n",
       "  border: var(--sklearn-color-fitted-level-1) 1pt solid;\n",
       "  color: var(--sklearn-color-fitted-level-1);\n",
       "}\n",
       "\n",
       "/* On hover */\n",
       "div.sk-estimator:hover .sk-estimator-doc-link:hover,\n",
       ".sk-estimator-doc-link:hover,\n",
       "div.sk-label-container:hover .sk-estimator-doc-link:hover,\n",
       ".sk-estimator-doc-link:hover {\n",
       "  /* unfitted */\n",
       "  background-color: var(--sklearn-color-unfitted-level-3);\n",
       "  color: var(--sklearn-color-background);\n",
       "  text-decoration: none;\n",
       "}\n",
       "\n",
       "div.sk-estimator.fitted:hover .sk-estimator-doc-link.fitted:hover,\n",
       ".sk-estimator-doc-link.fitted:hover,\n",
       "div.sk-label-container:hover .sk-estimator-doc-link.fitted:hover,\n",
       ".sk-estimator-doc-link.fitted:hover {\n",
       "  /* fitted */\n",
       "  background-color: var(--sklearn-color-fitted-level-3);\n",
       "  color: var(--sklearn-color-background);\n",
       "  text-decoration: none;\n",
       "}\n",
       "\n",
       "/* Span, style for the box shown on hovering the info icon */\n",
       ".sk-estimator-doc-link span {\n",
       "  display: none;\n",
       "  z-index: 9999;\n",
       "  position: relative;\n",
       "  font-weight: normal;\n",
       "  right: .2ex;\n",
       "  padding: .5ex;\n",
       "  margin: .5ex;\n",
       "  width: min-content;\n",
       "  min-width: 20ex;\n",
       "  max-width: 50ex;\n",
       "  color: var(--sklearn-color-text);\n",
       "  box-shadow: 2pt 2pt 4pt #999;\n",
       "  /* unfitted */\n",
       "  background: var(--sklearn-color-unfitted-level-0);\n",
       "  border: .5pt solid var(--sklearn-color-unfitted-level-3);\n",
       "}\n",
       "\n",
       ".sk-estimator-doc-link.fitted span {\n",
       "  /* fitted */\n",
       "  background: var(--sklearn-color-fitted-level-0);\n",
       "  border: var(--sklearn-color-fitted-level-3);\n",
       "}\n",
       "\n",
       ".sk-estimator-doc-link:hover span {\n",
       "  display: block;\n",
       "}\n",
       "\n",
       "/* \"?\"-specific style due to the `<a>` HTML tag */\n",
       "\n",
       "#sk-container-id-6 a.estimator_doc_link {\n",
       "  float: right;\n",
       "  font-size: 1rem;\n",
       "  line-height: 1em;\n",
       "  font-family: monospace;\n",
       "  background-color: var(--sklearn-color-background);\n",
       "  border-radius: 1rem;\n",
       "  height: 1rem;\n",
       "  width: 1rem;\n",
       "  text-decoration: none;\n",
       "  /* unfitted */\n",
       "  color: var(--sklearn-color-unfitted-level-1);\n",
       "  border: var(--sklearn-color-unfitted-level-1) 1pt solid;\n",
       "}\n",
       "\n",
       "#sk-container-id-6 a.estimator_doc_link.fitted {\n",
       "  /* fitted */\n",
       "  border: var(--sklearn-color-fitted-level-1) 1pt solid;\n",
       "  color: var(--sklearn-color-fitted-level-1);\n",
       "}\n",
       "\n",
       "/* On hover */\n",
       "#sk-container-id-6 a.estimator_doc_link:hover {\n",
       "  /* unfitted */\n",
       "  background-color: var(--sklearn-color-unfitted-level-3);\n",
       "  color: var(--sklearn-color-background);\n",
       "  text-decoration: none;\n",
       "}\n",
       "\n",
       "#sk-container-id-6 a.estimator_doc_link.fitted:hover {\n",
       "  /* fitted */\n",
       "  background-color: var(--sklearn-color-fitted-level-3);\n",
       "}\n",
       "</style><div id=\"sk-container-id-6\" class=\"sk-top-container\"><div class=\"sk-text-repr-fallback\"><pre>XGBClassifier(base_score=None, booster=&#x27;gbtree&#x27;, callbacks=None,\n",
       "              colsample_bylevel=None, colsample_bynode=None,\n",
       "              colsample_bytree=0.6, device=None, early_stopping_rounds=None,\n",
       "              enable_categorical=False, eval_metric=None, feature_types=None,\n",
       "              gamma=None, grow_policy=None, importance_type=None,\n",
       "              interaction_constraints=None, learning_rate=0.3, max_bin=None,\n",
       "              max_cat_threshold=None, max_cat_to_onehot=None,\n",
       "              max_delta_step=None, max_depth=4, max_leaves=None,\n",
       "              min_child_weight=3, missing=nan, monotone_constraints=None,\n",
       "              multi_strategy=None, n_estimators=4, n_jobs=None, nthread=4,\n",
       "              num_parallel_tree=None, ...)</pre><b>In a Jupyter environment, please rerun this cell to show the HTML representation or trust the notebook. <br />On GitHub, the HTML representation is unable to render, please try loading this page with nbviewer.org.</b></div><div class=\"sk-container\" hidden><div class=\"sk-item\"><div class=\"sk-estimator fitted sk-toggleable\"><input class=\"sk-toggleable__control sk-hidden--visually\" id=\"sk-estimator-id-6\" type=\"checkbox\" checked><label for=\"sk-estimator-id-6\" class=\"sk-toggleable__label fitted sk-toggleable__label-arrow fitted\">&nbsp;XGBClassifier<span class=\"sk-estimator-doc-link fitted\">i<span>Fitted</span></span></label><div class=\"sk-toggleable__content fitted\"><pre>XGBClassifier(base_score=None, booster=&#x27;gbtree&#x27;, callbacks=None,\n",
       "              colsample_bylevel=None, colsample_bynode=None,\n",
       "              colsample_bytree=0.6, device=None, early_stopping_rounds=None,\n",
       "              enable_categorical=False, eval_metric=None, feature_types=None,\n",
       "              gamma=None, grow_policy=None, importance_type=None,\n",
       "              interaction_constraints=None, learning_rate=0.3, max_bin=None,\n",
       "              max_cat_threshold=None, max_cat_to_onehot=None,\n",
       "              max_delta_step=None, max_depth=4, max_leaves=None,\n",
       "              min_child_weight=3, missing=nan, monotone_constraints=None,\n",
       "              multi_strategy=None, n_estimators=4, n_jobs=None, nthread=4,\n",
       "              num_parallel_tree=None, ...)</pre></div> </div></div></div></div>"
      ],
      "text/plain": [
       "XGBClassifier(base_score=None, booster='gbtree', callbacks=None,\n",
       "              colsample_bylevel=None, colsample_bynode=None,\n",
       "              colsample_bytree=0.6, device=None, early_stopping_rounds=None,\n",
       "              enable_categorical=False, eval_metric=None, feature_types=None,\n",
       "              gamma=None, grow_policy=None, importance_type=None,\n",
       "              interaction_constraints=None, learning_rate=0.3, max_bin=None,\n",
       "              max_cat_threshold=None, max_cat_to_onehot=None,\n",
       "              max_delta_step=None, max_depth=4, max_leaves=None,\n",
       "              min_child_weight=3, missing=nan, monotone_constraints=None,\n",
       "              multi_strategy=None, n_estimators=4, n_jobs=None, nthread=4,\n",
       "              num_parallel_tree=None, ...)"
      ]
     },
     "execution_count": 206,
     "metadata": {},
     "output_type": "execute_result"
    }
   ],
   "source": [
    "# XGBoost的Sklearn接口训练\n",
    "best_model1 = XGBClassifier(\n",
    "    objective='binary:logistic', # 目标函数，二分类\n",
    "    booster='gbtree',\n",
    "    nthread=4,\n",
    "    seed=2024,\n",
    "    n_estimators=4,\n",
    "    max_depth=4,\n",
    "    min_child_weight=3,\n",
    "    colsample_bytree=0.6,\n",
    "    subsample=1.0,\n",
    "    reg_alpha=0.7,\n",
    "    reg_lambda=0.2,\n",
    "    learning_rate=0.3\n",
    ")\n",
    "best_model1.fit(X_train, y_train)"
   ]
  },
  {
   "cell_type": "markdown",
   "id": "66507360-e973-4054-9d30-f5ec1eecce39",
   "metadata": {},
   "source": [
    "### 3.7 最优模型评估"
   ]
  },
  {
   "cell_type": "markdown",
   "id": "06cd8dfa-f5b7-46e1-b9b1-34cc69b30302",
   "metadata": {},
   "source": [
    "#### 3.7.1 模型预测"
   ]
  },
  {
   "cell_type": "markdown",
   "id": "1c1f450c-0b16-43c7-9de2-c217e983a881",
   "metadata": {},
   "source": [
    "获取模型在训练集上的预测："
   ]
  },
  {
   "cell_type": "code",
   "execution_count": null,
   "id": "286a5823-85cd-4cd8-af33-0cc7a518228c",
   "metadata": {},
   "outputs": [],
   "source": [
    "# predict函数输出的是0或1\n",
    "y_train_predict_class = best_model1.predict(X_train)\n",
    "# predict_proba函数输出的是概率，返回二维数组，其中每个一维数组分别表示为0或1的概率\n",
    "y_train_predict_prob = best_model1.predict_proba(X_train)\n",
    "# 取预测为正例1的概率\n",
    "y_train_predict_prob_possitive = y_train_predict_prob[:, 1]"
   ]
  },
  {
   "cell_type": "markdown",
   "id": "f45a46db-8dc7-46ee-a663-c32b20f48662",
   "metadata": {},
   "source": [
    "获取模型在测试集上的预测："
   ]
  },
  {
   "cell_type": "code",
   "execution_count": null,
   "id": "65c62a29-7b6e-45e0-9cc5-dd7539558d42",
   "metadata": {},
   "outputs": [],
   "source": [
    "# predict函数输出的是0或1\n",
    "y_test_predict_class = best_model1.predict(X_test)\n",
    "# predict_proba函数输出的是概率，返回二维数组，其中每个一维数组分别表示为0或1的概率\n",
    "y_test_predict_prob = best_model1.predict_proba(X_test)\n",
    "# 取预测为正例1的概率\n",
    "y_test_predict_prob_possitive = y_test_predict_prob[:, 1]"
   ]
  },
  {
   "cell_type": "markdown",
   "id": "f69b7db9-0ff6-4936-9bc1-17696246f7bf",
   "metadata": {},
   "source": [
    "#### 3.7.2 ROC曲线"
   ]
  },
  {
   "cell_type": "code",
   "execution_count": null,
   "id": "b8a60b01-519a-4390-bcb1-98ee60fbf2e9",
   "metadata": {},
   "outputs": [],
   "source": [
    "# fpr为假正率，tpr为真正率，thresholds为阈值\n",
    "# roc_auc即roc曲线下的面积\n",
    "\n",
    "# 训练集ROC计算\n",
    "fpr_train, tpr_train, thresholds_train = roc_curve(y_train, y_train_predict_prob_possitive, pos_label=1)\n",
    "roc_auc_train = auc(fpr_train, tpr_train)\n",
    "\n",
    "# 测试集ROC计算\n",
    "fpr_test, tpr_test, thresholds_test = roc_curve(y_test, y_test_predict_prob_possitive, pos_label=1)\n",
    "roc_auc_test = auc(fpr_test, tpr_test)"
   ]
  },
  {
   "cell_type": "markdown",
   "id": "9cbbb9cf-1180-480d-8023-869c20fb98e6",
   "metadata": {},
   "source": [
    "分别绘制训练集和测试集的ROC曲线："
   ]
  },
  {
   "cell_type": "code",
   "execution_count": null,
   "id": "770d647c-f3c6-440d-941c-190afc84f14c",
   "metadata": {},
   "outputs": [],
   "source": [
    "plt.figure(figsize=(16, 6))\n",
    "\n",
    "plt.subplot(1, 2, 1)\n",
    "plt.title('Train Roc Curve')\n",
    "plt.xlabel('False Positive Rate (FPR)')\n",
    "plt.ylabel('True Positive Rate (TPR)')\n",
    "plt.plot(fpr_train, tpr_train, color='darkorange', lw=2, label=f'XGBoost (AUC = {roc_auc_train:.2f})')\n",
    "plt.plot([0, 1], [0, 1], color='navy', lw=2, linestyle='--')\n",
    "plt.legend(loc='lower right')\n",
    "\n",
    "plt.subplot(1, 2, 2)\n",
    "plt.title('Test Roc Curve')\n",
    "plt.xlabel('False Positive Rate (FPR)')\n",
    "plt.ylabel('True Positive Rate (TPR)')\n",
    "plt.plot(fpr_test, tpr_test, color='darkorange', lw=2, label=f'XGBoost (AUC = {roc_auc_test:.2f})')\n",
    "plt.plot([0, 1], [0, 1], color='navy', lw=2, linestyle='--')\n",
    "plt.legend(loc='lower right')\n",
    "plt.show()"
   ]
  },
  {
   "cell_type": "markdown",
   "id": "f75d9a6e-3ef2-4cbd-a6c6-c8eef2e1c573",
   "metadata": {},
   "source": [
    "#### 3.7.3 PR曲线"
   ]
  },
  {
   "cell_type": "code",
   "execution_count": null,
   "id": "beeca458-0151-4854-944c-45f2894dada7",
   "metadata": {},
   "outputs": [],
   "source": [
    "# 训练集precission_score和recall_score计算\n",
    "precision_train, recall_train, thresholds_train = precision_recall_curve(y_train, y_train_predict_prob_possitive)\n",
    "# 测试集precission_score和recall_score计算\n",
    "precision_test, recall_test, thresholds_test = precision_recall_curve(y_test, y_test_predict_prob_possitive)"
   ]
  },
  {
   "cell_type": "markdown",
   "id": "bb48b416-b97d-4ee8-b2aa-93a9b9387088",
   "metadata": {},
   "source": [
    "分别绘制训练集和测试集的PR曲线："
   ]
  },
  {
   "cell_type": "code",
   "execution_count": null,
   "id": "d27b5d1d-0ab8-4626-a000-f1b22bb01899",
   "metadata": {},
   "outputs": [],
   "source": [
    "plt.figure(num=2, figsize=(16, 6))\n",
    "\n",
    "plt.subplot(1, 2, 1)\n",
    "plt.title('Train Precission-Recall Curve')\n",
    "plt.xlabel('Recall')\n",
    "plt.ylabel('Precission')\n",
    "plt.plot(recall_train, precision_train, color='darkorange', lw=2, label='XGBoost')\n",
    "plt.legend(loc='upper right')\n",
    "\n",
    "plt.subplot(1, 2, 2)\n",
    "plt.title('Test Precission-Recall Curve')\n",
    "plt.xlabel('Recall')\n",
    "plt.ylabel('Precission')\n",
    "plt.plot(recall_test, precision_test, color='darkorange', lw=2, label='XGBoost')\n",
    "plt.legend(loc='upper right')\n",
    "plt.show()"
   ]
  }
 ],
 "metadata": {
  "kernelspec": {
   "display_name": "Python 3 (ipykernel)",
   "language": "python",
   "name": "python3"
  },
  "language_info": {
   "codemirror_mode": {
    "name": "ipython",
    "version": 3
   },
   "file_extension": ".py",
   "mimetype": "text/x-python",
   "name": "python",
   "nbconvert_exporter": "python",
   "pygments_lexer": "ipython3",
   "version": "3.10.2"
  }
 },
 "nbformat": 4,
 "nbformat_minor": 5
}
